{
 "cells": [
  {
   "cell_type": "code",
   "execution_count": 14,
   "id": "3babaffc-02df-40b8-b224-e4f3f810482a",
   "metadata": {},
   "outputs": [],
   "source": [
    "class Node():\n",
    "\t\n",
    "\tdef __init__(self, data):\n",
    "\t\tself.data = data\n",
    "\t\tself.next = None\n",
    "\t\n",
    "\t# Setting node value\n",
    "\tdef placeNodeValue(self, data):\n",
    "\t\tself.data = data\n",
    "\t\t\n",
    "\t# Getting node value\n",
    "\tdef nodeValueIs(self):\n",
    "\t\treturn self.data\n",
    "\t\t\n",
    "\t# Setting next node\n",
    "\tdef placeNextNode(self, next):\n",
    "\t\tself.next = next\n",
    "\t\t\n",
    "\t# Getting next node\n",
    "\tdef nextNodeValueIs(self):\n",
    "\t\treturn self.next.data\n",
    "\t\n",
    "\t\n",
    "\t\n",
    "\t"
   ]
  },
  {
   "cell_type": "code",
   "execution_count": 15,
   "id": "fc595486-5e47-4421-aff2-8841b71f9b71",
   "metadata": {},
   "outputs": [],
   "source": [
    "nodeB = Node(7)\n",
    "nodeA = Node(6)"
   ]
  },
  {
   "cell_type": "code",
   "execution_count": 16,
   "id": "762d07f4-24a1-49f1-9a7d-323a270bf357",
   "metadata": {},
   "outputs": [],
   "source": [
    "nodeA.placeNextNode(nodeB)"
   ]
  },
  {
   "cell_type": "code",
   "execution_count": 17,
   "id": "057b24cb-af26-4912-86b3-f1dad0773901",
   "metadata": {},
   "outputs": [
    {
     "data": {
      "text/plain": [
       "7"
      ]
     },
     "execution_count": 17,
     "metadata": {},
     "output_type": "execute_result"
    }
   ],
   "source": [
    "nodeA.nextNodeValueIs()"
   ]
  }
 ],
 "metadata": {
  "kernelspec": {
   "display_name": "Python 3 (ipykernel)",
   "language": "python",
   "name": "python3"
  },
  "language_info": {
   "codemirror_mode": {
    "name": "ipython",
    "version": 3
   },
   "file_extension": ".py",
   "mimetype": "text/x-python",
   "name": "python",
   "nbconvert_exporter": "python",
   "pygments_lexer": "ipython3",
   "version": "3.8.13"
  }
 },
 "nbformat": 4,
 "nbformat_minor": 5
}
