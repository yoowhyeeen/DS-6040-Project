{
 "cells": [
  {
   "cell_type": "markdown",
   "id": "e407570f-e292-4bad-b8a3-49bd7a94c05f",
   "metadata": {},
   "source": [
    "## Libraries"
   ]
  },
  {
   "cell_type": "code",
   "execution_count": 1,
   "id": "7f7f0536-5e91-45cf-8228-0ddb2775355c",
   "metadata": {},
   "outputs": [
    {
     "data": {
      "text/plain": [
       "'C:\\\\Users\\\\nguye\\\\Documents\\\\UVA\\\\Term 3\\\\Bayesian Machine Learning\\\\Project'"
      ]
     },
     "execution_count": 1,
     "metadata": {},
     "output_type": "execute_result"
    }
   ],
   "source": [
    "import numpy as np\n",
    "import pandas as pd\n",
    "import os\n",
    "import us\n",
    "os.getcwd()"
   ]
  },
  {
   "cell_type": "code",
   "execution_count": null,
   "id": "501cf914-0625-4523-b92f-fac5133a8f9e",
   "metadata": {},
   "outputs": [],
   "source": [
    "os.chdir('C:\\\\Users\\\\nguye\\\\Documents\\\\UVA\\\\Term 3\\\\Bayesian Machine Learning\\\\Project\\\\Data')"
   ]
  },
  {
   "cell_type": "markdown",
   "id": "d32290f4-5962-4b65-b90f-0ccb6fc76497",
   "metadata": {},
   "source": [
    "## Loading data"
   ]
  },
  {
   "cell_type": "code",
   "execution_count": 2,
   "id": "b569f429-36ae-438f-9c23-a95ca96e4c3d",
   "metadata": {},
   "outputs": [],
   "source": [
    "cdc_lyme = pd.read_csv('LD-Case-Counts-by-County-00-19.csv', encoding = 'latin1')"
   ]
  },
  {
   "cell_type": "markdown",
   "id": "0714c85c-0421-47a3-96e2-dcba7a88f291",
   "metadata": {},
   "source": [
    "## Data Wrangling"
   ]
  },
  {
   "cell_type": "code",
   "execution_count": 3,
   "id": "fde13002-4d15-4f2c-94f7-eca10618ffba",
   "metadata": {},
   "outputs": [],
   "source": [
    "# Transforming columns\n",
    "cdc_lyme['CTYCODE'] = cdc_lyme['CTYCODE'].astype(str).str.zfill(3)\n",
    "cdc_lyme['STCODE'] = cdc_lyme['STCODE'].astype(str).str.zfill(2)\n",
    "cdc_lyme['FIPS'] = cdc_lyme['STCODE'] + cdc_lyme['CTYCODE']\n",
    "cdc_lyme['stabbr'] = cdc_lyme['STCODE'].map(us.states.mapping('fips', 'abbr'))\n",
    "state_abbr = cdc_lyme['stabbr'].unique()"
   ]
  },
  {
   "cell_type": "code",
   "execution_count": 4,
   "id": "82d69b4a-4c28-4da8-8a9c-bd27b97cc7c5",
   "metadata": {},
   "outputs": [],
   "source": [
    "# Making variables to feed into dataframe\n",
    "state_count_2000 = [cdc_lyme[cdc_lyme['stabbr'] == st]['Cases2000'].sum() for st in state_abbr]\n",
    "state_count_2001 = [cdc_lyme[cdc_lyme['stabbr'] == st]['Cases2001'].sum() for st in state_abbr]\n",
    "state_count_2002 = [cdc_lyme[cdc_lyme['stabbr'] == st]['Cases2002'].sum() for st in state_abbr]\n",
    "state_count_2003 = [cdc_lyme[cdc_lyme['stabbr'] == st]['Cases2003'].sum() for st in state_abbr]\n",
    "state_count_2004 = [cdc_lyme[cdc_lyme['stabbr'] == st]['Cases2004'].sum() for st in state_abbr]\n",
    "state_count_2005 = [cdc_lyme[cdc_lyme['stabbr'] == st]['Cases2005'].sum() for st in state_abbr]\n",
    "state_count_2016 = [cdc_lyme[cdc_lyme['stabbr'] == st]['Cases2006'].sum() for st in state_abbr]\n",
    "state_count_2007 = [cdc_lyme[cdc_lyme['stabbr'] == st]['Cases2007'].sum() for st in state_abbr]\n",
    "state_count_2008 = [cdc_lyme[cdc_lyme['stabbr'] == st]['Cases2008'].sum() for st in state_abbr]\n",
    "state_count_2009 = [cdc_lyme[cdc_lyme['stabbr'] == st]['Cases2009'].sum() for st in state_abbr]\n",
    "state_count_2010 = [cdc_lyme[cdc_lyme['stabbr'] == st]['Cases2010'].sum() for st in state_abbr]\n",
    "state_count_2011 = [cdc_lyme[cdc_lyme['stabbr'] == st]['Cases2011'].sum() for st in state_abbr]\n",
    "state_count_2012 = [cdc_lyme[cdc_lyme['stabbr'] == st]['Cases2012'].sum() for st in state_abbr]\n",
    "state_count_2013 = [cdc_lyme[cdc_lyme['stabbr'] == st]['Cases2013'].sum() for st in state_abbr]\n",
    "state_count_2014 = [cdc_lyme[cdc_lyme['stabbr'] == st]['Cases2014'].sum() for st in state_abbr]\n",
    "state_count_2015 = [cdc_lyme[cdc_lyme['stabbr'] == st]['Cases2015'].sum() for st in state_abbr]\n",
    "state_count_2016 = [cdc_lyme[cdc_lyme['stabbr'] == st]['Cases2016'].sum() for st in state_abbr]\n",
    "state_count_2017 = [cdc_lyme[cdc_lyme['stabbr'] == st]['Cases2017'].sum() for st in state_abbr]\n",
    "state_count_2018 = [cdc_lyme[cdc_lyme['stabbr'] == st]['Cases2018'].sum() for st in state_abbr]\n",
    "state_count_2019 = [cdc_lyme[cdc_lyme['stabbr'] == st]['Cases2019'].sum() for st in state_abbr]"
   ]
  },
  {
   "cell_type": "code",
   "execution_count": 5,
   "id": "74724fa9-a989-4fec-bf24-9049d2d3cfee",
   "metadata": {},
   "outputs": [],
   "source": [
    "# Making the data frame\n",
    "count_summary = pd.DataFrame({'State': state_abbr, \n",
    "                            '2000': state_count_2000,\n",
    "                            '2001': state_count_2001,\n",
    "                            '2002': state_count_2002,\n",
    "                            '2003': state_count_2003,\n",
    "                            '2004': state_count_2004,\n",
    "                            '2005': state_count_2005,\n",
    "                            '2006': state_count_2016,\n",
    "                            '2007': state_count_2007,\n",
    "                            '2008': state_count_2008,\n",
    "                            '2009': state_count_2009,\n",
    "                            '2010': state_count_2010,\n",
    "                            '2011': state_count_2011,\n",
    "                            '2012': state_count_2012,\n",
    "                            '2013': state_count_2013,\n",
    "                            '2014': state_count_2014,\n",
    "                            '2015': state_count_2015,\n",
    "                            '2016': state_count_2016,\n",
    "                            '2017': state_count_2017,\n",
    "                            '2018': state_count_2018,\n",
    "                            '2019': state_count_2019})"
   ]
  },
  {
   "cell_type": "markdown",
   "id": "e9b48400-69a1-4445-91be-47f1c630737b",
   "metadata": {},
   "source": [
    "## Writing to csv"
   ]
  },
  {
   "cell_type": "code",
   "execution_count": 7,
   "id": "1cd2d02d-25d8-4256-bfe4-685f93f0bcd0",
   "metadata": {},
   "outputs": [],
   "source": [
    "count_summary.to_csv('Lyme Summary.csv', header = True, index = False)"
   ]
  }
 ],
 "metadata": {
  "kernelspec": {
   "display_name": "Python 3 (ipykernel)",
   "language": "python",
   "name": "python3"
  },
  "language_info": {
   "codemirror_mode": {
    "name": "ipython",
    "version": 3
   },
   "file_extension": ".py",
   "mimetype": "text/x-python",
   "name": "python",
   "nbconvert_exporter": "python",
   "pygments_lexer": "ipython3",
   "version": "3.8.13"
  }
 },
 "nbformat": 4,
 "nbformat_minor": 5
}
