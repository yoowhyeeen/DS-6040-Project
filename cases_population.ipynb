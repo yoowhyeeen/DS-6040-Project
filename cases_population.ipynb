{
 "cells": [
  {
   "cell_type": "code",
   "execution_count": 35,
   "id": "dd8a19b6-118b-478c-bea2-ca29ddd1281b",
   "metadata": {},
   "outputs": [],
   "source": [
    "import pandas as pd\n",
    "import numpy as np\n",
    "import os\n",
    "import matplotlib.pyplot as plt\n",
    "import seaborn as sns"
   ]
  },
  {
   "cell_type": "code",
   "execution_count": 49,
   "id": "3168fbac-f3be-4d16-a7cc-91a457772d30",
   "metadata": {},
   "outputs": [],
   "source": [
    "os.chdir('/Users/tiggy/Documents/BML_Summer_22/Project')"
   ]
  },
  {
   "cell_type": "markdown",
   "id": "5e2b31eb-debc-4d32-9092-33fce68b03df",
   "metadata": {},
   "source": [
    "## Cases - CDC data collected from state and local health departments"
   ]
  },
  {
   "cell_type": "code",
   "execution_count": 202,
   "id": "975890c4-8c0e-4d9f-a835-437ce9ae4f1a",
   "metadata": {},
   "outputs": [],
   "source": [
    "df=pd.read_csv(\"cases.txt\",sep='\\t')"
   ]
  },
  {
   "cell_type": "code",
   "execution_count": 203,
   "id": "d0c84b2a-edff-494b-8295-28e3f402e9ca",
   "metadata": {},
   "outputs": [
    {
     "data": {
      "text/html": [
       "<div>\n",
       "<style scoped>\n",
       "    .dataframe tbody tr th:only-of-type {\n",
       "        vertical-align: middle;\n",
       "    }\n",
       "\n",
       "    .dataframe tbody tr th {\n",
       "        vertical-align: top;\n",
       "    }\n",
       "\n",
       "    .dataframe thead th {\n",
       "        text-align: right;\n",
       "    }\n",
       "</style>\n",
       "<table border=\"1\" class=\"dataframe\">\n",
       "  <thead>\n",
       "    <tr style=\"text-align: right;\">\n",
       "      <th></th>\n",
       "      <th>Ctyname</th>\n",
       "      <th>Stname</th>\n",
       "      <th>STCODE</th>\n",
       "      <th>CTYCODE</th>\n",
       "      <th>Cases2000</th>\n",
       "      <th>Cases2001</th>\n",
       "      <th>Cases2002</th>\n",
       "      <th>Cases2003</th>\n",
       "      <th>Cases2004</th>\n",
       "      <th>Cases2005</th>\n",
       "      <th>...</th>\n",
       "      <th>Cases2010</th>\n",
       "      <th>Cases2011</th>\n",
       "      <th>Cases2012</th>\n",
       "      <th>Cases2013</th>\n",
       "      <th>Cases2014</th>\n",
       "      <th>Cases2015</th>\n",
       "      <th>Cases2016</th>\n",
       "      <th>Cases2017</th>\n",
       "      <th>Cases2018</th>\n",
       "      <th>Cases2019</th>\n",
       "    </tr>\n",
       "  </thead>\n",
       "  <tbody>\n",
       "    <tr>\n",
       "      <th>0</th>\n",
       "      <td>Autauga County</td>\n",
       "      <td>Alabama</td>\n",
       "      <td>1</td>\n",
       "      <td>1</td>\n",
       "      <td>0</td>\n",
       "      <td>0</td>\n",
       "      <td>0</td>\n",
       "      <td>0</td>\n",
       "      <td>0</td>\n",
       "      <td>0</td>\n",
       "      <td>...</td>\n",
       "      <td>0</td>\n",
       "      <td>0</td>\n",
       "      <td>0</td>\n",
       "      <td>0</td>\n",
       "      <td>0</td>\n",
       "      <td>0</td>\n",
       "      <td>2</td>\n",
       "      <td>0</td>\n",
       "      <td>0</td>\n",
       "      <td>1</td>\n",
       "    </tr>\n",
       "    <tr>\n",
       "      <th>1</th>\n",
       "      <td>Baldwin County</td>\n",
       "      <td>Alabama</td>\n",
       "      <td>1</td>\n",
       "      <td>3</td>\n",
       "      <td>1</td>\n",
       "      <td>0</td>\n",
       "      <td>1</td>\n",
       "      <td>0</td>\n",
       "      <td>0</td>\n",
       "      <td>0</td>\n",
       "      <td>...</td>\n",
       "      <td>0</td>\n",
       "      <td>1</td>\n",
       "      <td>1</td>\n",
       "      <td>0</td>\n",
       "      <td>3</td>\n",
       "      <td>1</td>\n",
       "      <td>2</td>\n",
       "      <td>2</td>\n",
       "      <td>0</td>\n",
       "      <td>0</td>\n",
       "    </tr>\n",
       "    <tr>\n",
       "      <th>2</th>\n",
       "      <td>Barbour County</td>\n",
       "      <td>Alabama</td>\n",
       "      <td>1</td>\n",
       "      <td>5</td>\n",
       "      <td>0</td>\n",
       "      <td>0</td>\n",
       "      <td>0</td>\n",
       "      <td>0</td>\n",
       "      <td>0</td>\n",
       "      <td>0</td>\n",
       "      <td>...</td>\n",
       "      <td>0</td>\n",
       "      <td>1</td>\n",
       "      <td>0</td>\n",
       "      <td>0</td>\n",
       "      <td>0</td>\n",
       "      <td>0</td>\n",
       "      <td>0</td>\n",
       "      <td>0</td>\n",
       "      <td>0</td>\n",
       "      <td>1</td>\n",
       "    </tr>\n",
       "    <tr>\n",
       "      <th>3</th>\n",
       "      <td>Bibb County</td>\n",
       "      <td>Alabama</td>\n",
       "      <td>1</td>\n",
       "      <td>7</td>\n",
       "      <td>0</td>\n",
       "      <td>0</td>\n",
       "      <td>0</td>\n",
       "      <td>0</td>\n",
       "      <td>0</td>\n",
       "      <td>0</td>\n",
       "      <td>...</td>\n",
       "      <td>0</td>\n",
       "      <td>0</td>\n",
       "      <td>0</td>\n",
       "      <td>0</td>\n",
       "      <td>1</td>\n",
       "      <td>0</td>\n",
       "      <td>0</td>\n",
       "      <td>0</td>\n",
       "      <td>1</td>\n",
       "      <td>0</td>\n",
       "    </tr>\n",
       "    <tr>\n",
       "      <th>4</th>\n",
       "      <td>Blount County</td>\n",
       "      <td>Alabama</td>\n",
       "      <td>1</td>\n",
       "      <td>9</td>\n",
       "      <td>0</td>\n",
       "      <td>0</td>\n",
       "      <td>0</td>\n",
       "      <td>0</td>\n",
       "      <td>0</td>\n",
       "      <td>0</td>\n",
       "      <td>...</td>\n",
       "      <td>0</td>\n",
       "      <td>1</td>\n",
       "      <td>0</td>\n",
       "      <td>0</td>\n",
       "      <td>0</td>\n",
       "      <td>0</td>\n",
       "      <td>0</td>\n",
       "      <td>0</td>\n",
       "      <td>2</td>\n",
       "      <td>0</td>\n",
       "    </tr>\n",
       "  </tbody>\n",
       "</table>\n",
       "<p>5 rows × 24 columns</p>\n",
       "</div>"
      ],
      "text/plain": [
       "          Ctyname   Stname  STCODE  CTYCODE  Cases2000  Cases2001  Cases2002  \\\n",
       "0  Autauga County  Alabama       1        1          0          0          0   \n",
       "1  Baldwin County  Alabama       1        3          1          0          1   \n",
       "2  Barbour County  Alabama       1        5          0          0          0   \n",
       "3     Bibb County  Alabama       1        7          0          0          0   \n",
       "4   Blount County  Alabama       1        9          0          0          0   \n",
       "\n",
       "   Cases2003  Cases2004  Cases2005  ...  Cases2010  Cases2011  Cases2012  \\\n",
       "0          0          0          0  ...          0          0          0   \n",
       "1          0          0          0  ...          0          1          1   \n",
       "2          0          0          0  ...          0          1          0   \n",
       "3          0          0          0  ...          0          0          0   \n",
       "4          0          0          0  ...          0          1          0   \n",
       "\n",
       "   Cases2013  Cases2014  Cases2015  Cases2016  Cases2017  Cases2018  Cases2019  \n",
       "0          0          0          0          2          0          0          1  \n",
       "1          0          3          1          2          2          0          0  \n",
       "2          0          0          0          0          0          0          1  \n",
       "3          0          1          0          0          0          1          0  \n",
       "4          0          0          0          0          0          2          0  \n",
       "\n",
       "[5 rows x 24 columns]"
      ]
     },
     "execution_count": 203,
     "metadata": {},
     "output_type": "execute_result"
    }
   ],
   "source": [
    "df.head()"
   ]
  },
  {
   "cell_type": "code",
   "execution_count": 204,
   "id": "28da2de8-6ef8-4508-a83a-eff7cfde8f2f",
   "metadata": {},
   "outputs": [
    {
     "data": {
      "text/html": [
       "<div>\n",
       "<style scoped>\n",
       "    .dataframe tbody tr th:only-of-type {\n",
       "        vertical-align: middle;\n",
       "    }\n",
       "\n",
       "    .dataframe tbody tr th {\n",
       "        vertical-align: top;\n",
       "    }\n",
       "\n",
       "    .dataframe thead th {\n",
       "        text-align: right;\n",
       "    }\n",
       "</style>\n",
       "<table border=\"1\" class=\"dataframe\">\n",
       "  <thead>\n",
       "    <tr style=\"text-align: right;\">\n",
       "      <th></th>\n",
       "      <th>state</th>\n",
       "      <th>county</th>\n",
       "      <th>statecode</th>\n",
       "      <th>countycode</th>\n",
       "      <th>2000</th>\n",
       "      <th>2001</th>\n",
       "      <th>2002</th>\n",
       "      <th>2003</th>\n",
       "      <th>2004</th>\n",
       "      <th>2005</th>\n",
       "      <th>...</th>\n",
       "      <th>2010</th>\n",
       "      <th>2011</th>\n",
       "      <th>2012</th>\n",
       "      <th>2013</th>\n",
       "      <th>2014</th>\n",
       "      <th>2015</th>\n",
       "      <th>2016</th>\n",
       "      <th>2017</th>\n",
       "      <th>2018</th>\n",
       "      <th>2019</th>\n",
       "    </tr>\n",
       "  </thead>\n",
       "  <tbody>\n",
       "    <tr>\n",
       "      <th>0</th>\n",
       "      <td>Autauga County</td>\n",
       "      <td>Alabama</td>\n",
       "      <td>1</td>\n",
       "      <td>1</td>\n",
       "      <td>0</td>\n",
       "      <td>0</td>\n",
       "      <td>0</td>\n",
       "      <td>0</td>\n",
       "      <td>0</td>\n",
       "      <td>0</td>\n",
       "      <td>...</td>\n",
       "      <td>0</td>\n",
       "      <td>0</td>\n",
       "      <td>0</td>\n",
       "      <td>0</td>\n",
       "      <td>0</td>\n",
       "      <td>0</td>\n",
       "      <td>2</td>\n",
       "      <td>0</td>\n",
       "      <td>0</td>\n",
       "      <td>1</td>\n",
       "    </tr>\n",
       "    <tr>\n",
       "      <th>1</th>\n",
       "      <td>Baldwin County</td>\n",
       "      <td>Alabama</td>\n",
       "      <td>1</td>\n",
       "      <td>3</td>\n",
       "      <td>1</td>\n",
       "      <td>0</td>\n",
       "      <td>1</td>\n",
       "      <td>0</td>\n",
       "      <td>0</td>\n",
       "      <td>0</td>\n",
       "      <td>...</td>\n",
       "      <td>0</td>\n",
       "      <td>1</td>\n",
       "      <td>1</td>\n",
       "      <td>0</td>\n",
       "      <td>3</td>\n",
       "      <td>1</td>\n",
       "      <td>2</td>\n",
       "      <td>2</td>\n",
       "      <td>0</td>\n",
       "      <td>0</td>\n",
       "    </tr>\n",
       "    <tr>\n",
       "      <th>2</th>\n",
       "      <td>Barbour County</td>\n",
       "      <td>Alabama</td>\n",
       "      <td>1</td>\n",
       "      <td>5</td>\n",
       "      <td>0</td>\n",
       "      <td>0</td>\n",
       "      <td>0</td>\n",
       "      <td>0</td>\n",
       "      <td>0</td>\n",
       "      <td>0</td>\n",
       "      <td>...</td>\n",
       "      <td>0</td>\n",
       "      <td>1</td>\n",
       "      <td>0</td>\n",
       "      <td>0</td>\n",
       "      <td>0</td>\n",
       "      <td>0</td>\n",
       "      <td>0</td>\n",
       "      <td>0</td>\n",
       "      <td>0</td>\n",
       "      <td>1</td>\n",
       "    </tr>\n",
       "    <tr>\n",
       "      <th>3</th>\n",
       "      <td>Bibb County</td>\n",
       "      <td>Alabama</td>\n",
       "      <td>1</td>\n",
       "      <td>7</td>\n",
       "      <td>0</td>\n",
       "      <td>0</td>\n",
       "      <td>0</td>\n",
       "      <td>0</td>\n",
       "      <td>0</td>\n",
       "      <td>0</td>\n",
       "      <td>...</td>\n",
       "      <td>0</td>\n",
       "      <td>0</td>\n",
       "      <td>0</td>\n",
       "      <td>0</td>\n",
       "      <td>1</td>\n",
       "      <td>0</td>\n",
       "      <td>0</td>\n",
       "      <td>0</td>\n",
       "      <td>1</td>\n",
       "      <td>0</td>\n",
       "    </tr>\n",
       "    <tr>\n",
       "      <th>4</th>\n",
       "      <td>Blount County</td>\n",
       "      <td>Alabama</td>\n",
       "      <td>1</td>\n",
       "      <td>9</td>\n",
       "      <td>0</td>\n",
       "      <td>0</td>\n",
       "      <td>0</td>\n",
       "      <td>0</td>\n",
       "      <td>0</td>\n",
       "      <td>0</td>\n",
       "      <td>...</td>\n",
       "      <td>0</td>\n",
       "      <td>1</td>\n",
       "      <td>0</td>\n",
       "      <td>0</td>\n",
       "      <td>0</td>\n",
       "      <td>0</td>\n",
       "      <td>0</td>\n",
       "      <td>0</td>\n",
       "      <td>2</td>\n",
       "      <td>0</td>\n",
       "    </tr>\n",
       "  </tbody>\n",
       "</table>\n",
       "<p>5 rows × 24 columns</p>\n",
       "</div>"
      ],
      "text/plain": [
       "            state   county  statecode  countycode  2000  2001  2002  2003  \\\n",
       "0  Autauga County  Alabama          1           1     0     0     0     0   \n",
       "1  Baldwin County  Alabama          1           3     1     0     1     0   \n",
       "2  Barbour County  Alabama          1           5     0     0     0     0   \n",
       "3     Bibb County  Alabama          1           7     0     0     0     0   \n",
       "4   Blount County  Alabama          1           9     0     0     0     0   \n",
       "\n",
       "   2004  2005  ...  2010  2011  2012  2013  2014  2015  2016  2017  2018  2019  \n",
       "0     0     0  ...     0     0     0     0     0     0     2     0     0     1  \n",
       "1     0     0  ...     0     1     1     0     3     1     2     2     0     0  \n",
       "2     0     0  ...     0     1     0     0     0     0     0     0     0     1  \n",
       "3     0     0  ...     0     0     0     0     1     0     0     0     1     0  \n",
       "4     0     0  ...     0     1     0     0     0     0     0     0     2     0  \n",
       "\n",
       "[5 rows x 24 columns]"
      ]
     },
     "execution_count": 204,
     "metadata": {},
     "output_type": "execute_result"
    }
   ],
   "source": [
    "years = list(range(2000, 2020))\n",
    "years = [str(years[i]) for i in range(len(years))]\n",
    "cols=['state','county','statecode','countycode']+years\n",
    "df.columns=cols\n",
    "df.head()"
   ]
  },
  {
   "cell_type": "code",
   "execution_count": 205,
   "id": "7346faab-2193-4196-8836-8615d5a9f405",
   "metadata": {},
   "outputs": [
    {
     "name": "stderr",
     "output_type": "stream",
     "text": [
      "/var/folders/r6/c3b9x06n2wgb9hj6h8xwhfww0000gn/T/ipykernel_24442/978228844.py:1: FutureWarning: Dropping of nuisance columns in DataFrame reductions (with 'numeric_only=None') is deprecated; in a future version this will raise TypeError.  Select only valid columns before calling the reduction.\n",
      "  timeseries=df.mean().tolist()[2:]\n"
     ]
    }
   ],
   "source": [
    "timeseries=df.mean().tolist()[2:]"
   ]
  },
  {
   "cell_type": "code",
   "execution_count": 206,
   "id": "0dbe9db7-16ea-4d97-8acb-afaa3b92793b",
   "metadata": {},
   "outputs": [
    {
     "data": {
      "image/png": "[encoded data removed]",
      "text/plain": [
       "<Figure size 432x288 with 1 Axes>"
      ]
     },
     "metadata": {
      "needs_background": "light"
     },
     "output_type": "display_data"
    }
   ],
   "source": [
    "plt.plot(years,timeseries)\n",
    "plt.xticks(rotation = 90) \n",
    "plt.show()"
   ]
  },
  {
   "cell_type": "markdown",
   "id": "debd272f-2e32-46a3-91b3-e9758273a399",
   "metadata": {},
   "source": [
    "## Population data"
   ]
  },
  {
   "cell_type": "code",
   "execution_count": 207,
   "id": "fc177f90-d6db-46a2-96ee-0877c966eaad",
   "metadata": {},
   "outputs": [],
   "source": [
    "def clean_pop_data(file):\n",
    "    file=file.rename(columns = {'STNAME':'state','CTYNAME':'county',1: '2010_a', 2: '2010_j', 3: '2010', 4:'2011',5:'2012',6:'2013',7:'2014', 8: '2015', \n",
    "                         9: '2016', 10: '2017', 11:'2018', 12:'2019'})\n",
    "    del file['2010_a']\n",
    "    del file['2010_j']\n",
    "    \n",
    "    return file"
   ]
  },
  {
   "cell_type": "code",
   "execution_count": 208,
   "id": "22adc626-6612-482a-b2ec-1975647e01ea",
   "metadata": {},
   "outputs": [],
   "source": [
    "totalpop=clean_pop_data(pd.read_excel(\"totalpop.xlsx\"))"
   ]
  },
  {
   "cell_type": "code",
   "execution_count": 209,
   "id": "2e060456-1fd1-443f-bab1-8b74b2f40d6f",
   "metadata": {},
   "outputs": [
    {
     "data": {
      "text/html": [
       "<div>\n",
       "<style scoped>\n",
       "    .dataframe tbody tr th:only-of-type {\n",
       "        vertical-align: middle;\n",
       "    }\n",
       "\n",
       "    .dataframe tbody tr th {\n",
       "        vertical-align: top;\n",
       "    }\n",
       "\n",
       "    .dataframe thead th {\n",
       "        text-align: right;\n",
       "    }\n",
       "</style>\n",
       "<table border=\"1\" class=\"dataframe\">\n",
       "  <thead>\n",
       "    <tr style=\"text-align: right;\">\n",
       "      <th></th>\n",
       "      <th>state</th>\n",
       "      <th>county</th>\n",
       "      <th>2010</th>\n",
       "      <th>2011</th>\n",
       "      <th>2012</th>\n",
       "      <th>2013</th>\n",
       "      <th>2014</th>\n",
       "      <th>2015</th>\n",
       "      <th>2016</th>\n",
       "      <th>2017</th>\n",
       "      <th>2018</th>\n",
       "      <th>2019</th>\n",
       "    </tr>\n",
       "  </thead>\n",
       "  <tbody>\n",
       "    <tr>\n",
       "      <th>0</th>\n",
       "      <td>Alabama</td>\n",
       "      <td>Autauga County</td>\n",
       "      <td>109546</td>\n",
       "      <td>110454</td>\n",
       "      <td>109908</td>\n",
       "      <td>109454</td>\n",
       "      <td>109786</td>\n",
       "      <td>109728</td>\n",
       "      <td>110486</td>\n",
       "      <td>110780</td>\n",
       "      <td>111066</td>\n",
       "      <td>111738</td>\n",
       "    </tr>\n",
       "  </tbody>\n",
       "</table>\n",
       "</div>"
      ],
      "text/plain": [
       "     state          county    2010    2011    2012    2013    2014    2015  \\\n",
       "0  Alabama  Autauga County  109546  110454  109908  109454  109786  109728   \n",
       "\n",
       "     2016    2017    2018    2019  \n",
       "0  110486  110780  111066  111738  "
      ]
     },
     "execution_count": 209,
     "metadata": {},
     "output_type": "execute_result"
    }
   ],
   "source": [
    "totalpop.head(1)"
   ]
  },
  {
   "cell_type": "code",
   "execution_count": 198,
   "id": "42506058-3d72-4114-b6c6-f2b50917a20e",
   "metadata": {},
   "outputs": [],
   "source": [
    "kids=clean_pop_data(pd.read_excel(\"pop5to9.xlsx\"))"
   ]
  },
  {
   "cell_type": "code",
   "execution_count": 199,
   "id": "03be062b-c55e-4f6c-9986-bd519f723486",
   "metadata": {},
   "outputs": [
    {
     "data": {
      "text/html": [
       "<div>\n",
       "<style scoped>\n",
       "    .dataframe tbody tr th:only-of-type {\n",
       "        vertical-align: middle;\n",
       "    }\n",
       "\n",
       "    .dataframe tbody tr th {\n",
       "        vertical-align: top;\n",
       "    }\n",
       "\n",
       "    .dataframe thead th {\n",
       "        text-align: right;\n",
       "    }\n",
       "</style>\n",
       "<table border=\"1\" class=\"dataframe\">\n",
       "  <thead>\n",
       "    <tr style=\"text-align: right;\">\n",
       "      <th></th>\n",
       "      <th>state</th>\n",
       "      <th>county</th>\n",
       "      <th>2010</th>\n",
       "      <th>2011</th>\n",
       "      <th>2012</th>\n",
       "      <th>2013</th>\n",
       "      <th>2014</th>\n",
       "      <th>2015</th>\n",
       "      <th>2016</th>\n",
       "      <th>2017</th>\n",
       "      <th>2018</th>\n",
       "      <th>2019</th>\n",
       "    </tr>\n",
       "  </thead>\n",
       "  <tbody>\n",
       "    <tr>\n",
       "      <th>0</th>\n",
       "      <td>Alabama</td>\n",
       "      <td>Autauga County</td>\n",
       "      <td>3964</td>\n",
       "      <td>3902</td>\n",
       "      <td>3794</td>\n",
       "      <td>3756</td>\n",
       "      <td>3718</td>\n",
       "      <td>3688</td>\n",
       "      <td>3601</td>\n",
       "      <td>3551</td>\n",
       "      <td>3421</td>\n",
       "      <td>3465</td>\n",
       "    </tr>\n",
       "  </tbody>\n",
       "</table>\n",
       "</div>"
      ],
      "text/plain": [
       "     state          county  2010  2011  2012  2013  2014  2015  2016  2017  \\\n",
       "0  Alabama  Autauga County  3964  3902  3794  3756  3718  3688  3601  3551   \n",
       "\n",
       "   2018  2019  \n",
       "0  3421  3465  "
      ]
     },
     "execution_count": 199,
     "metadata": {},
     "output_type": "execute_result"
    }
   ],
   "source": [
    "kids.head(1)"
   ]
  },
  {
   "cell_type": "code",
   "execution_count": 191,
   "id": "1937ff72-3e43-4725-8689-998d7eb04630",
   "metadata": {},
   "outputs": [],
   "source": [
    "pop5569=clean_pop_data(pd.read_excel(\"pop5569.xlsx\"))"
   ]
  },
  {
   "cell_type": "code",
   "execution_count": 192,
   "id": "99811e04-c33d-4989-83b5-e409b1b1ffdd",
   "metadata": {},
   "outputs": [
    {
     "data": {
      "text/html": [
       "<div>\n",
       "<style scoped>\n",
       "    .dataframe tbody tr th:only-of-type {\n",
       "        vertical-align: middle;\n",
       "    }\n",
       "\n",
       "    .dataframe tbody tr th {\n",
       "        vertical-align: top;\n",
       "    }\n",
       "\n",
       "    .dataframe thead th {\n",
       "        text-align: right;\n",
       "    }\n",
       "</style>\n",
       "<table border=\"1\" class=\"dataframe\">\n",
       "  <thead>\n",
       "    <tr style=\"text-align: right;\">\n",
       "      <th></th>\n",
       "      <th>state</th>\n",
       "      <th>county</th>\n",
       "      <th>2010</th>\n",
       "      <th>2011</th>\n",
       "      <th>2012</th>\n",
       "      <th>2013</th>\n",
       "      <th>2014</th>\n",
       "      <th>2015</th>\n",
       "      <th>2016</th>\n",
       "      <th>2017</th>\n",
       "      <th>2018</th>\n",
       "      <th>2019</th>\n",
       "    </tr>\n",
       "  </thead>\n",
       "  <tbody>\n",
       "    <tr>\n",
       "      <th>0</th>\n",
       "      <td>Alabama</td>\n",
       "      <td>Autauga County</td>\n",
       "      <td>8198</td>\n",
       "      <td>8427</td>\n",
       "      <td>8511</td>\n",
       "      <td>8694</td>\n",
       "      <td>8856</td>\n",
       "      <td>9168</td>\n",
       "      <td>9526</td>\n",
       "      <td>9620</td>\n",
       "      <td>9763</td>\n",
       "      <td>9949</td>\n",
       "    </tr>\n",
       "  </tbody>\n",
       "</table>\n",
       "</div>"
      ],
      "text/plain": [
       "     state          county  2010  2011  2012  2013  2014  2015  2016  2017  \\\n",
       "0  Alabama  Autauga County  8198  8427  8511  8694  8856  9168  9526  9620   \n",
       "\n",
       "   2018  2019  \n",
       "0  9763  9949  "
      ]
     },
     "execution_count": 192,
     "metadata": {},
     "output_type": "execute_result"
    }
   ],
   "source": [
    "pop5569.head(1)"
   ]
  },
  {
   "attachments": {
    "7b720641-b8e2-445d-86ba-fc1e4c1eee77.png": {
     "image/png": "[encoded data removed]"
    }
   },
   "cell_type": "markdown",
   "id": "134fc5b6-f5e2-456f-be86-779ec0e9097f",
   "metadata": {},
   "source": [
    "### Note key to column headings\n",
    "\n",
    "![image.png](attachment:7b720641-b8e2-445d-86ba-fc1e4c1eee77.png)"
   ]
  },
  {
   "cell_type": "markdown",
   "id": "336af273-a365-4e86-9f12-64f8a2448831",
   "metadata": {},
   "source": [
    "## Compute age group percentages"
   ]
  },
  {
   "cell_type": "code",
   "execution_count": 193,
   "id": "8ddeff52-a71a-4e89-b55b-8fab56c7f061",
   "metadata": {},
   "outputs": [
    {
     "data": {
      "text/plain": [
       "state     0\n",
       "county    0\n",
       "2010      0\n",
       "2011      0\n",
       "2012      0\n",
       "2013      0\n",
       "2014      0\n",
       "2015      0\n",
       "2016      0\n",
       "2017      0\n",
       "2018      0\n",
       "2019      0\n",
       "dtype: int64"
      ]
     },
     "execution_count": 193,
     "metadata": {},
     "output_type": "execute_result"
    }
   ],
   "source": [
    "#check division by zero\n",
    "totalpop.isin([0]).sum()"
   ]
  },
  {
   "cell_type": "code",
   "execution_count": 195,
   "id": "a29ebb63-7fce-431e-91b7-678d56cba518",
   "metadata": {},
   "outputs": [],
   "source": [
    "def percent_pop(f,tot):\n",
    "    f['2010']=f['2010']/tot['2010']\n",
    "    f['2011']=f['2011']/tot['2011']\n",
    "    f['2012']=f['2012']/tot['2012']\n",
    "    f['2013']=f['2013']/tot['2013']\n",
    "    f['2014']=f['2014']/tot['2014']\n",
    "    f['2015']=f['2015']/tot['2015']\n",
    "    f['2016']=f['2016']/tot['2016']\n",
    "    f['2017']=f['2017']/tot['2017']\n",
    "    f['2018']=f['2018']/tot['2018']\n",
    "    f['2019']=f['2019']/tot['2019']\n",
    "    return f"
   ]
  },
  {
   "cell_type": "code",
   "execution_count": 200,
   "id": "01d2acb7-6393-4288-8a98-58afeff80d2e",
   "metadata": {},
   "outputs": [],
   "source": [
    "#Percent pop aged 5 to 9\n",
    "p59=totalpop #seed\n",
    "p59=percent_pop(kids,totalpop)"
   ]
  },
  {
   "cell_type": "code",
   "execution_count": 212,
   "id": "b84496a0-266d-42c8-8783-55eedf3f6567",
   "metadata": {},
   "outputs": [
    {
     "data": {
      "text/html": [
       "<div>\n",
       "<style scoped>\n",
       "    .dataframe tbody tr th:only-of-type {\n",
       "        vertical-align: middle;\n",
       "    }\n",
       "\n",
       "    .dataframe tbody tr th {\n",
       "        vertical-align: top;\n",
       "    }\n",
       "\n",
       "    .dataframe thead th {\n",
       "        text-align: right;\n",
       "    }\n",
       "</style>\n",
       "<table border=\"1\" class=\"dataframe\">\n",
       "  <thead>\n",
       "    <tr style=\"text-align: right;\">\n",
       "      <th></th>\n",
       "      <th>2010</th>\n",
       "      <th>2011</th>\n",
       "      <th>2012</th>\n",
       "      <th>2013</th>\n",
       "      <th>2014</th>\n",
       "      <th>2015</th>\n",
       "      <th>2016</th>\n",
       "      <th>2017</th>\n",
       "      <th>2018</th>\n",
       "      <th>2019</th>\n",
       "    </tr>\n",
       "  </thead>\n",
       "  <tbody>\n",
       "    <tr>\n",
       "      <th>count</th>\n",
       "      <td>3142.000000</td>\n",
       "      <td>3142.000000</td>\n",
       "      <td>3142.000000</td>\n",
       "      <td>3142.000000</td>\n",
       "      <td>3142.000000</td>\n",
       "      <td>3142.000000</td>\n",
       "      <td>3142.000000</td>\n",
       "      <td>3142.000000</td>\n",
       "      <td>3142.000000</td>\n",
       "      <td>3142.000000</td>\n",
       "    </tr>\n",
       "    <tr>\n",
       "      <th>mean</th>\n",
       "      <td>0.031855</td>\n",
       "      <td>0.031724</td>\n",
       "      <td>0.031782</td>\n",
       "      <td>0.031826</td>\n",
       "      <td>0.031589</td>\n",
       "      <td>0.031359</td>\n",
       "      <td>0.031052</td>\n",
       "      <td>0.030665</td>\n",
       "      <td>0.030300</td>\n",
       "      <td>0.030158</td>\n",
       "    </tr>\n",
       "    <tr>\n",
       "      <th>std</th>\n",
       "      <td>0.005200</td>\n",
       "      <td>0.005234</td>\n",
       "      <td>0.005301</td>\n",
       "      <td>0.005357</td>\n",
       "      <td>0.005369</td>\n",
       "      <td>0.005336</td>\n",
       "      <td>0.005353</td>\n",
       "      <td>0.005319</td>\n",
       "      <td>0.005322</td>\n",
       "      <td>0.005337</td>\n",
       "    </tr>\n",
       "    <tr>\n",
       "      <th>min</th>\n",
       "      <td>0.000000</td>\n",
       "      <td>0.000000</td>\n",
       "      <td>0.000000</td>\n",
       "      <td>0.000000</td>\n",
       "      <td>0.000000</td>\n",
       "      <td>0.000000</td>\n",
       "      <td>0.000000</td>\n",
       "      <td>0.000000</td>\n",
       "      <td>0.000000</td>\n",
       "      <td>0.000000</td>\n",
       "    </tr>\n",
       "    <tr>\n",
       "      <th>25%</th>\n",
       "      <td>0.028738</td>\n",
       "      <td>0.028588</td>\n",
       "      <td>0.028645</td>\n",
       "      <td>0.028611</td>\n",
       "      <td>0.028357</td>\n",
       "      <td>0.028181</td>\n",
       "      <td>0.027886</td>\n",
       "      <td>0.027460</td>\n",
       "      <td>0.027191</td>\n",
       "      <td>0.027031</td>\n",
       "    </tr>\n",
       "    <tr>\n",
       "      <th>50%</th>\n",
       "      <td>0.031637</td>\n",
       "      <td>0.031508</td>\n",
       "      <td>0.031549</td>\n",
       "      <td>0.031547</td>\n",
       "      <td>0.031350</td>\n",
       "      <td>0.031113</td>\n",
       "      <td>0.030797</td>\n",
       "      <td>0.030476</td>\n",
       "      <td>0.030159</td>\n",
       "      <td>0.030068</td>\n",
       "    </tr>\n",
       "    <tr>\n",
       "      <th>75%</th>\n",
       "      <td>0.034501</td>\n",
       "      <td>0.034432</td>\n",
       "      <td>0.034534</td>\n",
       "      <td>0.034588</td>\n",
       "      <td>0.034475</td>\n",
       "      <td>0.034158</td>\n",
       "      <td>0.033810</td>\n",
       "      <td>0.033420</td>\n",
       "      <td>0.032982</td>\n",
       "      <td>0.032915</td>\n",
       "    </tr>\n",
       "    <tr>\n",
       "      <th>max</th>\n",
       "      <td>0.061013</td>\n",
       "      <td>0.062690</td>\n",
       "      <td>0.061012</td>\n",
       "      <td>0.058135</td>\n",
       "      <td>0.057934</td>\n",
       "      <td>0.057564</td>\n",
       "      <td>0.072650</td>\n",
       "      <td>0.061134</td>\n",
       "      <td>0.062297</td>\n",
       "      <td>0.062665</td>\n",
       "    </tr>\n",
       "  </tbody>\n",
       "</table>\n",
       "</div>"
      ],
      "text/plain": [
       "              2010         2011         2012         2013         2014  \\\n",
       "count  3142.000000  3142.000000  3142.000000  3142.000000  3142.000000   \n",
       "mean      0.031855     0.031724     0.031782     0.031826     0.031589   \n",
       "std       0.005200     0.005234     0.005301     0.005357     0.005369   \n",
       "min       0.000000     0.000000     0.000000     0.000000     0.000000   \n",
       "25%       0.028738     0.028588     0.028645     0.028611     0.028357   \n",
       "50%       0.031637     0.031508     0.031549     0.031547     0.031350   \n",
       "75%       0.034501     0.034432     0.034534     0.034588     0.034475   \n",
       "max       0.061013     0.062690     0.061012     0.058135     0.057934   \n",
       "\n",
       "              2015         2016         2017         2018         2019  \n",
       "count  3142.000000  3142.000000  3142.000000  3142.000000  3142.000000  \n",
       "mean      0.031359     0.031052     0.030665     0.030300     0.030158  \n",
       "std       0.005336     0.005353     0.005319     0.005322     0.005337  \n",
       "min       0.000000     0.000000     0.000000     0.000000     0.000000  \n",
       "25%       0.028181     0.027886     0.027460     0.027191     0.027031  \n",
       "50%       0.031113     0.030797     0.030476     0.030159     0.030068  \n",
       "75%       0.034158     0.033810     0.033420     0.032982     0.032915  \n",
       "max       0.057564     0.072650     0.061134     0.062297     0.062665  "
      ]
     },
     "execution_count": 212,
     "metadata": {},
     "output_type": "execute_result"
    }
   ],
   "source": [
    "p59.describe()"
   ]
  },
  {
   "cell_type": "code",
   "execution_count": 213,
   "id": "789dbc6e-6324-403d-84db-e9569ea94521",
   "metadata": {},
   "outputs": [
    {
     "data": {
      "text/html": [
       "<div>\n",
       "<style scoped>\n",
       "    .dataframe tbody tr th:only-of-type {\n",
       "        vertical-align: middle;\n",
       "    }\n",
       "\n",
       "    .dataframe tbody tr th {\n",
       "        vertical-align: top;\n",
       "    }\n",
       "\n",
       "    .dataframe thead th {\n",
       "        text-align: right;\n",
       "    }\n",
       "</style>\n",
       "<table border=\"1\" class=\"dataframe\">\n",
       "  <thead>\n",
       "    <tr style=\"text-align: right;\">\n",
       "      <th></th>\n",
       "      <th>2010</th>\n",
       "      <th>2011</th>\n",
       "      <th>2012</th>\n",
       "      <th>2013</th>\n",
       "      <th>2014</th>\n",
       "      <th>2015</th>\n",
       "      <th>2016</th>\n",
       "      <th>2017</th>\n",
       "      <th>2018</th>\n",
       "      <th>2019</th>\n",
       "    </tr>\n",
       "  </thead>\n",
       "  <tbody>\n",
       "    <tr>\n",
       "      <th>count</th>\n",
       "      <td>3142.000000</td>\n",
       "      <td>3142.000000</td>\n",
       "      <td>3142.000000</td>\n",
       "      <td>3142.000000</td>\n",
       "      <td>3142.000000</td>\n",
       "      <td>3142.000000</td>\n",
       "      <td>3142.000000</td>\n",
       "      <td>3142.000000</td>\n",
       "      <td>3142.000000</td>\n",
       "      <td>3142.000000</td>\n",
       "    </tr>\n",
       "    <tr>\n",
       "      <th>mean</th>\n",
       "      <td>0.090857</td>\n",
       "      <td>0.092910</td>\n",
       "      <td>0.094945</td>\n",
       "      <td>0.096384</td>\n",
       "      <td>0.097892</td>\n",
       "      <td>0.099578</td>\n",
       "      <td>0.101323</td>\n",
       "      <td>0.101397</td>\n",
       "      <td>0.101848</td>\n",
       "      <td>0.102249</td>\n",
       "    </tr>\n",
       "    <tr>\n",
       "      <th>std</th>\n",
       "      <td>0.016061</td>\n",
       "      <td>0.016198</td>\n",
       "      <td>0.016362</td>\n",
       "      <td>0.016412</td>\n",
       "      <td>0.016503</td>\n",
       "      <td>0.016577</td>\n",
       "      <td>0.016751</td>\n",
       "      <td>0.016515</td>\n",
       "      <td>0.016434</td>\n",
       "      <td>0.016324</td>\n",
       "    </tr>\n",
       "    <tr>\n",
       "      <th>min</th>\n",
       "      <td>0.025398</td>\n",
       "      <td>0.023719</td>\n",
       "      <td>0.020913</td>\n",
       "      <td>0.020661</td>\n",
       "      <td>0.021546</td>\n",
       "      <td>0.022777</td>\n",
       "      <td>0.026376</td>\n",
       "      <td>0.027144</td>\n",
       "      <td>0.027500</td>\n",
       "      <td>0.027964</td>\n",
       "    </tr>\n",
       "    <tr>\n",
       "      <th>25%</th>\n",
       "      <td>0.081386</td>\n",
       "      <td>0.083437</td>\n",
       "      <td>0.085336</td>\n",
       "      <td>0.086757</td>\n",
       "      <td>0.088223</td>\n",
       "      <td>0.090040</td>\n",
       "      <td>0.091406</td>\n",
       "      <td>0.091496</td>\n",
       "      <td>0.091967</td>\n",
       "      <td>0.092409</td>\n",
       "    </tr>\n",
       "    <tr>\n",
       "      <th>50%</th>\n",
       "      <td>0.089775</td>\n",
       "      <td>0.091812</td>\n",
       "      <td>0.094001</td>\n",
       "      <td>0.095644</td>\n",
       "      <td>0.097242</td>\n",
       "      <td>0.098993</td>\n",
       "      <td>0.100902</td>\n",
       "      <td>0.100924</td>\n",
       "      <td>0.101414</td>\n",
       "      <td>0.101915</td>\n",
       "    </tr>\n",
       "    <tr>\n",
       "      <th>75%</th>\n",
       "      <td>0.098689</td>\n",
       "      <td>0.100936</td>\n",
       "      <td>0.103118</td>\n",
       "      <td>0.104729</td>\n",
       "      <td>0.106239</td>\n",
       "      <td>0.108135</td>\n",
       "      <td>0.110016</td>\n",
       "      <td>0.110245</td>\n",
       "      <td>0.110701</td>\n",
       "      <td>0.111196</td>\n",
       "    </tr>\n",
       "    <tr>\n",
       "      <th>max</th>\n",
       "      <td>0.177682</td>\n",
       "      <td>0.175800</td>\n",
       "      <td>0.179071</td>\n",
       "      <td>0.178472</td>\n",
       "      <td>0.178802</td>\n",
       "      <td>0.182228</td>\n",
       "      <td>0.185266</td>\n",
       "      <td>0.185505</td>\n",
       "      <td>0.186047</td>\n",
       "      <td>0.203488</td>\n",
       "    </tr>\n",
       "  </tbody>\n",
       "</table>\n",
       "</div>"
      ],
      "text/plain": [
       "              2010         2011         2012         2013         2014  \\\n",
       "count  3142.000000  3142.000000  3142.000000  3142.000000  3142.000000   \n",
       "mean      0.090857     0.092910     0.094945     0.096384     0.097892   \n",
       "std       0.016061     0.016198     0.016362     0.016412     0.016503   \n",
       "min       0.025398     0.023719     0.020913     0.020661     0.021546   \n",
       "25%       0.081386     0.083437     0.085336     0.086757     0.088223   \n",
       "50%       0.089775     0.091812     0.094001     0.095644     0.097242   \n",
       "75%       0.098689     0.100936     0.103118     0.104729     0.106239   \n",
       "max       0.177682     0.175800     0.179071     0.178472     0.178802   \n",
       "\n",
       "              2015         2016         2017         2018         2019  \n",
       "count  3142.000000  3142.000000  3142.000000  3142.000000  3142.000000  \n",
       "mean      0.099578     0.101323     0.101397     0.101848     0.102249  \n",
       "std       0.016577     0.016751     0.016515     0.016434     0.016324  \n",
       "min       0.022777     0.026376     0.027144     0.027500     0.027964  \n",
       "25%       0.090040     0.091406     0.091496     0.091967     0.092409  \n",
       "50%       0.098993     0.100902     0.100924     0.101414     0.101915  \n",
       "75%       0.108135     0.110016     0.110245     0.110701     0.111196  \n",
       "max       0.182228     0.185266     0.185505     0.186047     0.203488  "
      ]
     },
     "execution_count": 213,
     "metadata": {},
     "output_type": "execute_result"
    }
   ],
   "source": [
    "#Percent pop aged 55 to 69\n",
    "p5569=totalpop #seed\n",
    "p5569=percent_pop(pop5569,totalpop)\n",
    "p5569.describe()"
   ]
  },
  {
   "cell_type": "markdown",
   "id": "38df3d93-facc-4f90-a65a-06173513a025",
   "metadata": {},
   "source": [
    "# US wide cases correlation with age distr"
   ]
  },
  {
   "cell_type": "code",
   "execution_count": 225,
   "id": "a1cf4b6b-d9df-4b9e-84c7-8641436b0669",
   "metadata": {},
   "outputs": [
    {
     "name": "stderr",
     "output_type": "stream",
     "text": [
      "/var/folders/r6/c3b9x06n2wgb9hj6h8xwhfww0000gn/T/ipykernel_24442/2449667562.py:1: FutureWarning: Dropping of nuisance columns in DataFrame reductions (with 'numeric_only=None') is deprecated; in a future version this will raise TypeError.  Select only valid columns before calling the reduction.\n",
      "  boomers=list(p5569.mean())\n"
     ]
    }
   ],
   "source": [
    "boomers=list(p5569.mean())"
   ]
  },
  {
   "cell_type": "code",
   "execution_count": 226,
   "id": "15704617-0a89-4b97-a757-14d9d9b62e1b",
   "metadata": {},
   "outputs": [
    {
     "data": {
      "text/plain": [
       "[0.09085696369931756,\n",
       " 0.09291021400880557,\n",
       " 0.09494506863744166,\n",
       " 0.09638415625985278,\n",
       " 0.09789188578057541,\n",
       " 0.09957848213516625,\n",
       " 0.10132262640732423,\n",
       " 0.10139682571727922,\n",
       " 0.10184761583891672,\n",
       " 0.10224941950604594]"
      ]
     },
     "execution_count": 226,
     "metadata": {},
     "output_type": "execute_result"
    }
   ],
   "source": [
    "boomers"
   ]
  },
  {
   "cell_type": "code",
   "execution_count": 227,
   "id": "ecb71e18-e374-4f8b-a89a-39e263f40342",
   "metadata": {},
   "outputs": [
    {
     "data": {
      "text/plain": [
       "10"
      ]
     },
     "execution_count": 227,
     "metadata": {},
     "output_type": "execute_result"
    }
   ],
   "source": [
    "len(boomers)\n",
    "#plt.scatter(timeseries[10:18],boomers)"
   ]
  },
  {
   "cell_type": "code",
   "execution_count": 228,
   "id": "adbd350c-bf3a-4021-b297-02af021ba389",
   "metadata": {},
   "outputs": [
    {
     "data": {
      "text/plain": [
       "10"
      ]
     },
     "execution_count": 228,
     "metadata": {},
     "output_type": "execute_result"
    }
   ],
   "source": [
    "len(timeseries[10:20])"
   ]
  },
  {
   "cell_type": "code",
   "execution_count": 229,
   "id": "8a6d0f92-f559-4268-87d9-5b1f9fec12a5",
   "metadata": {},
   "outputs": [
    {
     "data": {
      "text/plain": [
       "<matplotlib.collections.PathCollection at 0x7fed201d5cd0>"
      ]
     },
     "execution_count": 229,
     "metadata": {},
     "output_type": "execute_result"
    },
    {
     "data": {
      "image/png": "[encoded data removed]",
      "text/plain": [
       "<Figure size 432x288 with 1 Axes>"
      ]
     },
     "metadata": {
      "needs_background": "light"
     },
     "output_type": "display_data"
    }
   ],
   "source": [
    "plt.scatter(boomers,timeseries[10:20])"
   ]
  },
  {
   "cell_type": "code",
   "execution_count": 230,
   "id": "95eca11d-39e8-463b-971e-73c89a642364",
   "metadata": {},
   "outputs": [
    {
     "name": "stderr",
     "output_type": "stream",
     "text": [
      "/var/folders/r6/c3b9x06n2wgb9hj6h8xwhfww0000gn/T/ipykernel_24442/373011381.py:1: FutureWarning: Dropping of nuisance columns in DataFrame reductions (with 'numeric_only=None') is deprecated; in a future version this will raise TypeError.  Select only valid columns before calling the reduction.\n",
      "  kidperc=list(p59.mean())\n"
     ]
    }
   ],
   "source": [
    "kidperc=list(p59.mean())"
   ]
  },
  {
   "cell_type": "code",
   "execution_count": 231,
   "id": "f8a15bc5-4cce-4dae-b24b-b0f3c61c398d",
   "metadata": {},
   "outputs": [
    {
     "data": {
      "text/plain": [
       "<matplotlib.collections.PathCollection at 0x7fed20430160>"
      ]
     },
     "execution_count": 231,
     "metadata": {},
     "output_type": "execute_result"
    },
    {
     "data": {
      "image/png": "[encoded data removed]",
      "text/plain": [
       "<Figure size 432x288 with 1 Axes>"
      ]
     },
     "metadata": {
      "needs_background": "light"
     },
     "output_type": "display_data"
    }
   ],
   "source": [
    "plt.scatter(kidperc,timeseries[10:20])"
   ]
  },
  {
   "cell_type": "code",
   "execution_count": null,
   "id": "efc9b329-47f3-477a-9d29-287a45befa20",
   "metadata": {},
   "outputs": [],
   "source": []
  }
 ],
 "metadata": {
  "kernelspec": {
   "display_name": "Python 3 (ipykernel)",
   "language": "python",
   "name": "python3"
  },
  "language_info": {
   "codemirror_mode": {
    "name": "ipython",
    "version": 3
   },
   "file_extension": ".py",
   "mimetype": "text/x-python",
   "name": "python",
   "nbconvert_exporter": "python",
   "pygments_lexer": "ipython3",
   "version": "3.9.12"
  }
 },
 "nbformat": 4,
 "nbformat_minor": 5
}
